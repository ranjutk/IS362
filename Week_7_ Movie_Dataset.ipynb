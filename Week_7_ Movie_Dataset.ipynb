{
 "cells": [
  {
   "cell_type": "markdown",
   "metadata": {},
   "source": [
    "## Week 7 Assignment - Ranju Thomas\n",
    "\n",
    "Let's export the libraries."
   ]
  },
  {
   "cell_type": "code",
   "execution_count": 1,
   "metadata": {},
   "outputs": [],
   "source": [
    "import pandas as pd\n",
    "import numpy as np\n",
    "import matplotlib.pyplot as plt\n",
    "import matplotlib as mp\n",
    "%matplotlib inline"
   ]
  },
  {
   "cell_type": "markdown",
   "metadata": {},
   "source": [
    "I have uploaded the CSV file into my git repo and I got the raw file. Exporting it to here. Head I gave as 7 becasue I asked 7 friends to rate it."
   ]
  },
  {
   "cell_type": "code",
   "execution_count": 2,
   "metadata": {},
   "outputs": [
    {
     "data": {
      "text/html": [
       "<div>\n",
       "<style scoped>\n",
       "    .dataframe tbody tr th:only-of-type {\n",
       "        vertical-align: middle;\n",
       "    }\n",
       "\n",
       "    .dataframe tbody tr th {\n",
       "        vertical-align: top;\n",
       "    }\n",
       "\n",
       "    .dataframe thead th {\n",
       "        text-align: right;\n",
       "    }\n",
       "</style>\n",
       "<table border=\"1\" class=\"dataframe\">\n",
       "  <thead>\n",
       "    <tr style=\"text-align: right;\">\n",
       "      <th></th>\n",
       "      <th>Shawshank Redemption</th>\n",
       "      <th>Life is Beautiful</th>\n",
       "      <th>Wind River</th>\n",
       "      <th>Life of Pie</th>\n",
       "      <th>Full Metal Jacket</th>\n",
       "      <th>Pursuit of Happyness</th>\n",
       "    </tr>\n",
       "  </thead>\n",
       "  <tbody>\n",
       "    <tr>\n",
       "      <th>Oleg Broder</th>\n",
       "      <td>4.5</td>\n",
       "      <td>3.5</td>\n",
       "      <td>3.5</td>\n",
       "      <td>3.5</td>\n",
       "      <td>5.0</td>\n",
       "      <td>NaN</td>\n",
       "    </tr>\n",
       "    <tr>\n",
       "      <th>Upama Ferdousi</th>\n",
       "      <td>4.0</td>\n",
       "      <td>4.5</td>\n",
       "      <td>NaN</td>\n",
       "      <td>4.0</td>\n",
       "      <td>4.0</td>\n",
       "      <td>5.0</td>\n",
       "    </tr>\n",
       "    <tr>\n",
       "      <th>Hlwan Moe Tun</th>\n",
       "      <td>5.0</td>\n",
       "      <td>5.0</td>\n",
       "      <td>4.0</td>\n",
       "      <td>4.0</td>\n",
       "      <td>4.5</td>\n",
       "      <td>5.0</td>\n",
       "    </tr>\n",
       "    <tr>\n",
       "      <th>Randy Ferguson</th>\n",
       "      <td>5.0</td>\n",
       "      <td>5.0</td>\n",
       "      <td>4.5</td>\n",
       "      <td>5.0</td>\n",
       "      <td>NaN</td>\n",
       "      <td>4.0</td>\n",
       "    </tr>\n",
       "    <tr>\n",
       "      <th>Raj Lotwala</th>\n",
       "      <td>3.5</td>\n",
       "      <td>NaN</td>\n",
       "      <td>3.0</td>\n",
       "      <td>4.0</td>\n",
       "      <td>4.0</td>\n",
       "      <td>3.5</td>\n",
       "    </tr>\n",
       "    <tr>\n",
       "      <th>Noel Ramos</th>\n",
       "      <td>4.5</td>\n",
       "      <td>5.0</td>\n",
       "      <td>4.0</td>\n",
       "      <td>4.5</td>\n",
       "      <td>3.5</td>\n",
       "      <td>4.0</td>\n",
       "    </tr>\n",
       "    <tr>\n",
       "      <th>Chris Morris</th>\n",
       "      <td>3.0</td>\n",
       "      <td>4.0</td>\n",
       "      <td>3.0</td>\n",
       "      <td>NaN</td>\n",
       "      <td>4.5</td>\n",
       "      <td>4.5</td>\n",
       "    </tr>\n",
       "  </tbody>\n",
       "</table>\n",
       "</div>"
      ],
      "text/plain": [
       "                Shawshank Redemption  Life is Beautiful  Wind River  \\\n",
       "Oleg Broder                      4.5                3.5         3.5   \n",
       "Upama Ferdousi                   4.0                4.5         NaN   \n",
       "Hlwan Moe Tun                    5.0                5.0         4.0   \n",
       "Randy Ferguson                   5.0                5.0         4.5   \n",
       "Raj Lotwala                      3.5                NaN         3.0   \n",
       "Noel Ramos                       4.5                5.0         4.0   \n",
       "Chris Morris                     3.0                4.0         3.0   \n",
       "\n",
       "                Life of Pie  Full Metal Jacket  Pursuit of Happyness  \n",
       "Oleg Broder             3.5                5.0                   NaN  \n",
       "Upama Ferdousi          4.0                4.0                   5.0  \n",
       "Hlwan Moe Tun           4.0                4.5                   5.0  \n",
       "Randy Ferguson          5.0                NaN                   4.0  \n",
       "Raj Lotwala             4.0                4.0                   3.5  \n",
       "Noel Ramos              4.5                3.5                   4.0  \n",
       "Chris Morris            NaN                4.5                   4.5  "
      ]
     },
     "execution_count": 2,
     "metadata": {},
     "output_type": "execute_result"
    }
   ],
   "source": [
    "df = pd.read_csv(r'https://raw.githubusercontent.com/ranjutk/IS362/master/movie_list.csv', index_col = 0)  # reading data from csv file\n",
    "df.head(7) "
   ]
  },
  {
   "cell_type": "markdown",
   "metadata": {},
   "source": [
    "**NaN should be tidied up as instructed.**"
   ]
  },
  {
   "cell_type": "code",
   "execution_count": 3,
   "metadata": {},
   "outputs": [
    {
     "data": {
      "text/html": [
       "<div>\n",
       "<style scoped>\n",
       "    .dataframe tbody tr th:only-of-type {\n",
       "        vertical-align: middle;\n",
       "    }\n",
       "\n",
       "    .dataframe tbody tr th {\n",
       "        vertical-align: top;\n",
       "    }\n",
       "\n",
       "    .dataframe thead th {\n",
       "        text-align: right;\n",
       "    }\n",
       "</style>\n",
       "<table border=\"1\" class=\"dataframe\">\n",
       "  <thead>\n",
       "    <tr style=\"text-align: right;\">\n",
       "      <th></th>\n",
       "      <th>Shawshank Redemption</th>\n",
       "      <th>Life is Beautiful</th>\n",
       "      <th>Wind River</th>\n",
       "      <th>Life of Pie</th>\n",
       "      <th>Full Metal Jacket</th>\n",
       "      <th>Pursuit of Happyness</th>\n",
       "    </tr>\n",
       "  </thead>\n",
       "  <tbody>\n",
       "    <tr>\n",
       "      <th>Oleg Broder</th>\n",
       "      <td>4.5</td>\n",
       "      <td>3.5</td>\n",
       "      <td>3.5</td>\n",
       "      <td>3.5</td>\n",
       "      <td>5.0</td>\n",
       "      <td>0.0</td>\n",
       "    </tr>\n",
       "    <tr>\n",
       "      <th>Upama Ferdousi</th>\n",
       "      <td>4.0</td>\n",
       "      <td>4.5</td>\n",
       "      <td>0.0</td>\n",
       "      <td>4.0</td>\n",
       "      <td>4.0</td>\n",
       "      <td>5.0</td>\n",
       "    </tr>\n",
       "    <tr>\n",
       "      <th>Hlwan Moe Tun</th>\n",
       "      <td>5.0</td>\n",
       "      <td>5.0</td>\n",
       "      <td>4.0</td>\n",
       "      <td>4.0</td>\n",
       "      <td>4.5</td>\n",
       "      <td>5.0</td>\n",
       "    </tr>\n",
       "    <tr>\n",
       "      <th>Randy Ferguson</th>\n",
       "      <td>5.0</td>\n",
       "      <td>5.0</td>\n",
       "      <td>4.5</td>\n",
       "      <td>5.0</td>\n",
       "      <td>0.0</td>\n",
       "      <td>4.0</td>\n",
       "    </tr>\n",
       "    <tr>\n",
       "      <th>Raj Lotwala</th>\n",
       "      <td>3.5</td>\n",
       "      <td>0.0</td>\n",
       "      <td>3.0</td>\n",
       "      <td>4.0</td>\n",
       "      <td>4.0</td>\n",
       "      <td>3.5</td>\n",
       "    </tr>\n",
       "    <tr>\n",
       "      <th>Noel Ramos</th>\n",
       "      <td>4.5</td>\n",
       "      <td>5.0</td>\n",
       "      <td>4.0</td>\n",
       "      <td>4.5</td>\n",
       "      <td>3.5</td>\n",
       "      <td>4.0</td>\n",
       "    </tr>\n",
       "    <tr>\n",
       "      <th>Chris Morris</th>\n",
       "      <td>3.0</td>\n",
       "      <td>4.0</td>\n",
       "      <td>3.0</td>\n",
       "      <td>0.0</td>\n",
       "      <td>4.5</td>\n",
       "      <td>4.5</td>\n",
       "    </tr>\n",
       "  </tbody>\n",
       "</table>\n",
       "</div>"
      ],
      "text/plain": [
       "                Shawshank Redemption  Life is Beautiful  Wind River  \\\n",
       "Oleg Broder                      4.5                3.5         3.5   \n",
       "Upama Ferdousi                   4.0                4.5         0.0   \n",
       "Hlwan Moe Tun                    5.0                5.0         4.0   \n",
       "Randy Ferguson                   5.0                5.0         4.5   \n",
       "Raj Lotwala                      3.5                0.0         3.0   \n",
       "Noel Ramos                       4.5                5.0         4.0   \n",
       "Chris Morris                     3.0                4.0         3.0   \n",
       "\n",
       "                Life of Pie  Full Metal Jacket  Pursuit of Happyness  \n",
       "Oleg Broder             3.5                5.0                   0.0  \n",
       "Upama Ferdousi          4.0                4.0                   5.0  \n",
       "Hlwan Moe Tun           4.0                4.5                   5.0  \n",
       "Randy Ferguson          5.0                0.0                   4.0  \n",
       "Raj Lotwala             4.0                4.0                   3.5  \n",
       "Noel Ramos              4.5                3.5                   4.0  \n",
       "Chris Morris            0.0                4.5                   4.5  "
      ]
     },
     "execution_count": 3,
     "metadata": {},
     "output_type": "execute_result"
    }
   ],
   "source": [
    "df1=df.fillna(0)  #this simple command will replace all NaN with 0\n",
    "df1.head(7)"
   ]
  },
  {
   "cell_type": "markdown",
   "metadata": {},
   "source": [
    "**Now lets find the average rating for the movie based on the what each of my friends gave**"
   ]
  },
  {
   "cell_type": "code",
   "execution_count": 4,
   "metadata": {},
   "outputs": [
    {
     "data": {
      "text/plain": [
       "Shawshank Redemption    4.21\n",
       "Life is Beautiful       3.86\n",
       "Wind River              3.14\n",
       "Life of Pie             3.57\n",
       "Full Metal Jacket       3.64\n",
       "Pursuit of Happyness    3.71\n",
       "dtype: float64"
      ]
     },
     "execution_count": 4,
     "metadata": {},
     "output_type": "execute_result"
    }
   ],
   "source": [
    "df1.mean(axis = 0).round(2) #Axis 0 because the movie is in vertical"
   ]
  },
  {
   "cell_type": "markdown",
   "metadata": {},
   "source": [
    "**Now lets find mt friends average rating score**"
   ]
  },
  {
   "cell_type": "code",
   "execution_count": 5,
   "metadata": {},
   "outputs": [
    {
     "data": {
      "text/plain": [
       "Oleg Broder       3.33\n",
       "Upama Ferdousi    3.58\n",
       "Hlwan Moe Tun     4.58\n",
       "Randy Ferguson    3.92\n",
       "Raj Lotwala       3.00\n",
       "Noel Ramos        4.25\n",
       "Chris Morris      3.17\n",
       "dtype: float64"
      ]
     },
     "execution_count": 5,
     "metadata": {},
     "output_type": "execute_result"
    }
   ],
   "source": [
    "df1.mean(axis = 1).round(2)  #Axis 1 because the friends are in the horizontal"
   ]
  },
  {
   "cell_type": "code",
   "execution_count": 6,
   "metadata": {},
   "outputs": [
    {
     "data": {
      "text/plain": [
       "Shawshank Redemption    4.214286\n",
       "Life is Beautiful       3.857143\n",
       "Wind River              3.142857\n",
       "Life of Pie             3.571429\n",
       "Full Metal Jacket       3.642857\n",
       "Pursuit of Happyness    3.714286\n",
       "dtype: float64"
      ]
     },
     "execution_count": 6,
     "metadata": {},
     "output_type": "execute_result"
    },
    {
     "data": {
      "image/png": "[encoded data removed]",
      "text/plain": [
       "<Figure size 432x288 with 1 Axes>"
      ]
     },
     "metadata": {},
     "output_type": "display_data"
    }
   ],
   "source": [
    "df1.mean(axis = 0).plot()\n",
    "df1.mean(axis = 0)"
   ]
  },
  {
   "cell_type": "code",
   "execution_count": 7,
   "metadata": {},
   "outputs": [
    {
     "data": {
      "text/plain": [
       "Shawshank Redemption    4.214286\n",
       "Life is Beautiful       3.857143\n",
       "Wind River              3.142857\n",
       "Life of Pie             3.571429\n",
       "Full Metal Jacket       3.642857\n",
       "Pursuit of Happyness    3.714286\n",
       "dtype: float64"
      ]
     },
     "execution_count": 7,
     "metadata": {},
     "output_type": "execute_result"
    },
    {
     "data": {
      "image/png": "[encoded data removed]",
      "text/plain": [
       "<Figure size 432x288 with 1 Axes>"
      ]
     },
     "metadata": {},
     "output_type": "display_data"
    }
   ],
   "source": [
    "df1.mean(axis = 0).plot()\n",
    "df1.mean(axis = 0)"
   ]
  },
  {
   "cell_type": "markdown",
   "metadata": {},
   "source": [
    "Database normalization is process used to organize a database into tables and columns. The idea is that a table should be about a specific topic and that only those columns which supports tathat topics are included. These are the three main reasons we normalize the data.\n",
    "\n",
    "minimize duplicate data\n",
    "minimize or avoid data modification issues\n",
    "to simplify the queries\n",
    "Normalization, which scales all numeric variables in the range [0,1]. One possible formula is given below:\n",
    "\n",
    "\n",
    "**normalized = (x - x.min()) / (x.max() - x.min())**"
   ]
  },
  {
   "cell_type": "code",
   "execution_count": 8,
   "metadata": {},
   "outputs": [
    {
     "data": {
      "text/html": [
       "<div>\n",
       "<style scoped>\n",
       "    .dataframe tbody tr th:only-of-type {\n",
       "        vertical-align: middle;\n",
       "    }\n",
       "\n",
       "    .dataframe tbody tr th {\n",
       "        vertical-align: top;\n",
       "    }\n",
       "\n",
       "    .dataframe thead th {\n",
       "        text-align: right;\n",
       "    }\n",
       "</style>\n",
       "<table border=\"1\" class=\"dataframe\">\n",
       "  <thead>\n",
       "    <tr style=\"text-align: right;\">\n",
       "      <th></th>\n",
       "      <th>Shawshank Redemption</th>\n",
       "      <th>Life is Beautiful</th>\n",
       "      <th>Wind River</th>\n",
       "      <th>Life of Pie</th>\n",
       "      <th>Full Metal Jacket</th>\n",
       "      <th>Pursuit of Happyness</th>\n",
       "    </tr>\n",
       "  </thead>\n",
       "  <tbody>\n",
       "    <tr>\n",
       "      <th>Oleg Broder</th>\n",
       "      <td>0.75</td>\n",
       "      <td>0.7</td>\n",
       "      <td>0.78</td>\n",
       "      <td>0.7</td>\n",
       "      <td>1.0</td>\n",
       "      <td>0.0</td>\n",
       "    </tr>\n",
       "    <tr>\n",
       "      <th>Upama Ferdousi</th>\n",
       "      <td>0.50</td>\n",
       "      <td>0.9</td>\n",
       "      <td>0.00</td>\n",
       "      <td>0.8</td>\n",
       "      <td>0.8</td>\n",
       "      <td>1.0</td>\n",
       "    </tr>\n",
       "    <tr>\n",
       "      <th>Hlwan Moe Tun</th>\n",
       "      <td>1.00</td>\n",
       "      <td>1.0</td>\n",
       "      <td>0.89</td>\n",
       "      <td>0.8</td>\n",
       "      <td>0.9</td>\n",
       "      <td>1.0</td>\n",
       "    </tr>\n",
       "    <tr>\n",
       "      <th>Randy Ferguson</th>\n",
       "      <td>1.00</td>\n",
       "      <td>1.0</td>\n",
       "      <td>1.00</td>\n",
       "      <td>1.0</td>\n",
       "      <td>0.0</td>\n",
       "      <td>0.8</td>\n",
       "    </tr>\n",
       "    <tr>\n",
       "      <th>Raj Lotwala</th>\n",
       "      <td>0.25</td>\n",
       "      <td>0.0</td>\n",
       "      <td>0.67</td>\n",
       "      <td>0.8</td>\n",
       "      <td>0.8</td>\n",
       "      <td>0.7</td>\n",
       "    </tr>\n",
       "    <tr>\n",
       "      <th>Noel Ramos</th>\n",
       "      <td>0.75</td>\n",
       "      <td>1.0</td>\n",
       "      <td>0.89</td>\n",
       "      <td>0.9</td>\n",
       "      <td>0.7</td>\n",
       "      <td>0.8</td>\n",
       "    </tr>\n",
       "    <tr>\n",
       "      <th>Chris Morris</th>\n",
       "      <td>0.00</td>\n",
       "      <td>0.8</td>\n",
       "      <td>0.67</td>\n",
       "      <td>0.0</td>\n",
       "      <td>0.9</td>\n",
       "      <td>0.9</td>\n",
       "    </tr>\n",
       "  </tbody>\n",
       "</table>\n",
       "</div>"
      ],
      "text/plain": [
       "                Shawshank Redemption  Life is Beautiful  Wind River  \\\n",
       "Oleg Broder                     0.75                0.7        0.78   \n",
       "Upama Ferdousi                  0.50                0.9        0.00   \n",
       "Hlwan Moe Tun                   1.00                1.0        0.89   \n",
       "Randy Ferguson                  1.00                1.0        1.00   \n",
       "Raj Lotwala                     0.25                0.0        0.67   \n",
       "Noel Ramos                      0.75                1.0        0.89   \n",
       "Chris Morris                    0.00                0.8        0.67   \n",
       "\n",
       "                Life of Pie  Full Metal Jacket  Pursuit of Happyness  \n",
       "Oleg Broder             0.7                1.0                   0.0  \n",
       "Upama Ferdousi          0.8                0.8                   1.0  \n",
       "Hlwan Moe Tun           0.8                0.9                   1.0  \n",
       "Randy Ferguson          1.0                0.0                   0.8  \n",
       "Raj Lotwala             0.8                0.8                   0.7  \n",
       "Noel Ramos              0.9                0.7                   0.8  \n",
       "Chris Morris            0.0                0.9                   0.9  "
      ]
     },
     "execution_count": 8,
     "metadata": {},
     "output_type": "execute_result"
    }
   ],
   "source": [
    "df_normalized = (df1- df1.min())/ (df1.max()- df1.min())\n",
    "df_normalized.round(2)"
   ]
  },
  {
   "cell_type": "markdown",
   "metadata": {},
   "source": [
    "***Lets plot this. First for the reviewer***"
   ]
  },
  {
   "cell_type": "code",
   "execution_count": 9,
   "metadata": {},
   "outputs": [
    {
     "data": {
      "text/plain": [
       "Oleg Broder       0.654630\n",
       "Upama Ferdousi    0.666667\n",
       "Hlwan Moe Tun     0.931481\n",
       "Randy Ferguson    0.800000\n",
       "Raj Lotwala       0.536111\n",
       "Noel Ramos        0.839815\n",
       "Chris Morris      0.544444\n",
       "dtype: float64"
      ]
     },
     "execution_count": 9,
     "metadata": {},
     "output_type": "execute_result"
    },
    {
     "data": {
      "image/png": "[encoded data removed]",
      "text/plain": [
       "<Figure size 432x288 with 1 Axes>"
      ]
     },
     "metadata": {},
     "output_type": "display_data"
    }
   ],
   "source": [
    "df_normalized.mean(axis = 1).plot()\n",
    "df_normalized.mean(axis = 1)"
   ]
  },
  {
   "cell_type": "markdown",
   "metadata": {},
   "source": [
    "***Now based on the movie***"
   ]
  },
  {
   "cell_type": "code",
   "execution_count": 10,
   "metadata": {},
   "outputs": [
    {
     "data": {
      "text/plain": [
       "Shawshank Redemption    0.607143\n",
       "Life is Beautiful       0.771429\n",
       "Wind River              0.698413\n",
       "Life of Pie             0.714286\n",
       "Full Metal Jacket       0.728571\n",
       "Pursuit of Happyness    0.742857\n",
       "dtype: float64"
      ]
     },
     "execution_count": 10,
     "metadata": {},
     "output_type": "execute_result"
    },
    {
     "data": {
      "image/png": "[encoded data removed]",
      "text/plain": [
       "<Figure size 432x288 with 1 Axes>"
      ]
     },
     "metadata": {},
     "output_type": "display_data"
    }
   ],
   "source": [
    "df_normalized.mean(axis = 0).plot()\n",
    "df_normalized.mean(axis = 0)"
   ]
  },
  {
   "cell_type": "markdown",
   "metadata": {
    "collapsed": true
   },
   "source": [
    "### Extra Credit -  Strandardized Rating \n",
    "\n",
    "**standardized = (x - x.mean()) / x.std()**"
   ]
  },
  {
   "cell_type": "code",
   "execution_count": 11,
   "metadata": {},
   "outputs": [
    {
     "data": {
      "text/html": [
       "<div>\n",
       "<style scoped>\n",
       "    .dataframe tbody tr th:only-of-type {\n",
       "        vertical-align: middle;\n",
       "    }\n",
       "\n",
       "    .dataframe tbody tr th {\n",
       "        vertical-align: top;\n",
       "    }\n",
       "\n",
       "    .dataframe thead th {\n",
       "        text-align: right;\n",
       "    }\n",
       "</style>\n",
       "<table border=\"1\" class=\"dataframe\">\n",
       "  <thead>\n",
       "    <tr style=\"text-align: right;\">\n",
       "      <th></th>\n",
       "      <th>Shawshank Redemption</th>\n",
       "      <th>Life is Beautiful</th>\n",
       "      <th>Wind River</th>\n",
       "      <th>Life of Pie</th>\n",
       "      <th>Full Metal Jacket</th>\n",
       "      <th>Pursuit of Happyness</th>\n",
       "    </tr>\n",
       "  </thead>\n",
       "  <tbody>\n",
       "    <tr>\n",
       "      <th>Oleg Broder</th>\n",
       "      <td>4.5</td>\n",
       "      <td>3.5</td>\n",
       "      <td>3.5</td>\n",
       "      <td>3.5</td>\n",
       "      <td>5.0</td>\n",
       "      <td>NaN</td>\n",
       "    </tr>\n",
       "    <tr>\n",
       "      <th>Upama Ferdousi</th>\n",
       "      <td>4.0</td>\n",
       "      <td>4.5</td>\n",
       "      <td>NaN</td>\n",
       "      <td>4.0</td>\n",
       "      <td>4.0</td>\n",
       "      <td>5.0</td>\n",
       "    </tr>\n",
       "    <tr>\n",
       "      <th>Hlwan Moe Tun</th>\n",
       "      <td>5.0</td>\n",
       "      <td>5.0</td>\n",
       "      <td>4.0</td>\n",
       "      <td>4.0</td>\n",
       "      <td>4.5</td>\n",
       "      <td>5.0</td>\n",
       "    </tr>\n",
       "    <tr>\n",
       "      <th>Randy Ferguson</th>\n",
       "      <td>5.0</td>\n",
       "      <td>5.0</td>\n",
       "      <td>4.5</td>\n",
       "      <td>5.0</td>\n",
       "      <td>NaN</td>\n",
       "      <td>4.0</td>\n",
       "    </tr>\n",
       "    <tr>\n",
       "      <th>Raj Lotwala</th>\n",
       "      <td>3.5</td>\n",
       "      <td>NaN</td>\n",
       "      <td>3.0</td>\n",
       "      <td>4.0</td>\n",
       "      <td>4.0</td>\n",
       "      <td>3.5</td>\n",
       "    </tr>\n",
       "    <tr>\n",
       "      <th>Noel Ramos</th>\n",
       "      <td>4.5</td>\n",
       "      <td>5.0</td>\n",
       "      <td>4.0</td>\n",
       "      <td>4.5</td>\n",
       "      <td>3.5</td>\n",
       "      <td>4.0</td>\n",
       "    </tr>\n",
       "    <tr>\n",
       "      <th>Chris Morris</th>\n",
       "      <td>3.0</td>\n",
       "      <td>4.0</td>\n",
       "      <td>3.0</td>\n",
       "      <td>NaN</td>\n",
       "      <td>4.5</td>\n",
       "      <td>4.5</td>\n",
       "    </tr>\n",
       "  </tbody>\n",
       "</table>\n",
       "</div>"
      ],
      "text/plain": [
       "                Shawshank Redemption  Life is Beautiful  Wind River  \\\n",
       "Oleg Broder                      4.5                3.5         3.5   \n",
       "Upama Ferdousi                   4.0                4.5         NaN   \n",
       "Hlwan Moe Tun                    5.0                5.0         4.0   \n",
       "Randy Ferguson                   5.0                5.0         4.5   \n",
       "Raj Lotwala                      3.5                NaN         3.0   \n",
       "Noel Ramos                       4.5                5.0         4.0   \n",
       "Chris Morris                     3.0                4.0         3.0   \n",
       "\n",
       "                Life of Pie  Full Metal Jacket  Pursuit of Happyness  \n",
       "Oleg Broder             3.5                5.0                   NaN  \n",
       "Upama Ferdousi          4.0                4.0                   5.0  \n",
       "Hlwan Moe Tun           4.0                4.5                   5.0  \n",
       "Randy Ferguson          5.0                NaN                   4.0  \n",
       "Raj Lotwala             4.0                4.0                   3.5  \n",
       "Noel Ramos              4.5                3.5                   4.0  \n",
       "Chris Morris            NaN                4.5                   4.5  "
      ]
     },
     "execution_count": 11,
     "metadata": {},
     "output_type": "execute_result"
    }
   ],
   "source": [
    "dfs= pd.read_csv(r'https://raw.githubusercontent.com/ranjutk/IS362/master/movie_list.csv', index_col = 0)  # reading data from csv file\n",
    "dfs.head(7) "
   ]
  },
  {
   "cell_type": "code",
   "execution_count": 13,
   "metadata": {},
   "outputs": [
    {
     "data": {
      "text/html": [
       "<div>\n",
       "<style scoped>\n",
       "    .dataframe tbody tr th:only-of-type {\n",
       "        vertical-align: middle;\n",
       "    }\n",
       "\n",
       "    .dataframe tbody tr th {\n",
       "        vertical-align: top;\n",
       "    }\n",
       "\n",
       "    .dataframe thead th {\n",
       "        text-align: right;\n",
       "    }\n",
       "</style>\n",
       "<table border=\"1\" class=\"dataframe\">\n",
       "  <thead>\n",
       "    <tr style=\"text-align: right;\">\n",
       "      <th></th>\n",
       "      <th>Shawshank Redemption</th>\n",
       "      <th>Life is Beautiful</th>\n",
       "      <th>Wind River</th>\n",
       "      <th>Life of Pie</th>\n",
       "      <th>Full Metal Jacket</th>\n",
       "      <th>Pursuit of Happyness</th>\n",
       "    </tr>\n",
       "  </thead>\n",
       "  <tbody>\n",
       "    <tr>\n",
       "      <th>Oleg Broder</th>\n",
       "      <td>0.377964</td>\n",
       "      <td>-1.581139</td>\n",
       "      <td>-0.275241</td>\n",
       "      <td>-1.290994</td>\n",
       "      <td>1.430194</td>\n",
       "      <td>NaN</td>\n",
       "    </tr>\n",
       "    <tr>\n",
       "      <th>Upama Ferdousi</th>\n",
       "      <td>-0.283473</td>\n",
       "      <td>0.000000</td>\n",
       "      <td>NaN</td>\n",
       "      <td>-0.322749</td>\n",
       "      <td>-0.476731</td>\n",
       "      <td>1.100964</td>\n",
       "    </tr>\n",
       "    <tr>\n",
       "      <th>Hlwan Moe Tun</th>\n",
       "      <td>1.039402</td>\n",
       "      <td>0.790569</td>\n",
       "      <td>0.550482</td>\n",
       "      <td>-0.322749</td>\n",
       "      <td>0.476731</td>\n",
       "      <td>1.100964</td>\n",
       "    </tr>\n",
       "    <tr>\n",
       "      <th>Randy Ferguson</th>\n",
       "      <td>1.039402</td>\n",
       "      <td>0.790569</td>\n",
       "      <td>1.376205</td>\n",
       "      <td>1.613743</td>\n",
       "      <td>NaN</td>\n",
       "      <td>-0.550482</td>\n",
       "    </tr>\n",
       "    <tr>\n",
       "      <th>Raj Lotwala</th>\n",
       "      <td>-0.944911</td>\n",
       "      <td>NaN</td>\n",
       "      <td>-1.100964</td>\n",
       "      <td>-0.322749</td>\n",
       "      <td>-0.476731</td>\n",
       "      <td>-1.376205</td>\n",
       "    </tr>\n",
       "    <tr>\n",
       "      <th>Noel Ramos</th>\n",
       "      <td>0.377964</td>\n",
       "      <td>0.790569</td>\n",
       "      <td>0.550482</td>\n",
       "      <td>0.645497</td>\n",
       "      <td>-1.430194</td>\n",
       "      <td>-0.550482</td>\n",
       "    </tr>\n",
       "    <tr>\n",
       "      <th>Chris Morris</th>\n",
       "      <td>-1.606349</td>\n",
       "      <td>-0.790569</td>\n",
       "      <td>-1.100964</td>\n",
       "      <td>NaN</td>\n",
       "      <td>0.476731</td>\n",
       "      <td>0.275241</td>\n",
       "    </tr>\n",
       "  </tbody>\n",
       "</table>\n",
       "</div>"
      ],
      "text/plain": [
       "                Shawshank Redemption  Life is Beautiful  Wind River  \\\n",
       "Oleg Broder                 0.377964          -1.581139   -0.275241   \n",
       "Upama Ferdousi             -0.283473           0.000000         NaN   \n",
       "Hlwan Moe Tun               1.039402           0.790569    0.550482   \n",
       "Randy Ferguson              1.039402           0.790569    1.376205   \n",
       "Raj Lotwala                -0.944911                NaN   -1.100964   \n",
       "Noel Ramos                  0.377964           0.790569    0.550482   \n",
       "Chris Morris               -1.606349          -0.790569   -1.100964   \n",
       "\n",
       "                Life of Pie  Full Metal Jacket  Pursuit of Happyness  \n",
       "Oleg Broder       -1.290994           1.430194                   NaN  \n",
       "Upama Ferdousi    -0.322749          -0.476731              1.100964  \n",
       "Hlwan Moe Tun     -0.322749           0.476731              1.100964  \n",
       "Randy Ferguson     1.613743                NaN             -0.550482  \n",
       "Raj Lotwala       -0.322749          -0.476731             -1.376205  \n",
       "Noel Ramos         0.645497          -1.430194             -0.550482  \n",
       "Chris Morris            NaN           0.476731              0.275241  "
      ]
     },
     "execution_count": 13,
     "metadata": {},
     "output_type": "execute_result"
    }
   ],
   "source": [
    "dfs_standardized = (dfs - dfs.mean())/dfs.std()\n",
    "dfs_standardized"
   ]
  },
  {
   "cell_type": "markdown",
   "metadata": {},
   "source": [
    "Removing the NaN"
   ]
  },
  {
   "cell_type": "code",
   "execution_count": 14,
   "metadata": {},
   "outputs": [
    {
     "data": {
      "text/html": [
       "<div>\n",
       "<style scoped>\n",
       "    .dataframe tbody tr th:only-of-type {\n",
       "        vertical-align: middle;\n",
       "    }\n",
       "\n",
       "    .dataframe tbody tr th {\n",
       "        vertical-align: top;\n",
       "    }\n",
       "\n",
       "    .dataframe thead th {\n",
       "        text-align: right;\n",
       "    }\n",
       "</style>\n",
       "<table border=\"1\" class=\"dataframe\">\n",
       "  <thead>\n",
       "    <tr style=\"text-align: right;\">\n",
       "      <th></th>\n",
       "      <th>Shawshank Redemption</th>\n",
       "      <th>Life is Beautiful</th>\n",
       "      <th>Wind River</th>\n",
       "      <th>Life of Pie</th>\n",
       "      <th>Full Metal Jacket</th>\n",
       "      <th>Pursuit of Happyness</th>\n",
       "    </tr>\n",
       "  </thead>\n",
       "  <tbody>\n",
       "    <tr>\n",
       "      <th>Oleg Broder</th>\n",
       "      <td>0.377964</td>\n",
       "      <td>-1.581139</td>\n",
       "      <td>-0.275241</td>\n",
       "      <td>-1.290994</td>\n",
       "      <td>1.430194</td>\n",
       "      <td>0.000000</td>\n",
       "    </tr>\n",
       "    <tr>\n",
       "      <th>Upama Ferdousi</th>\n",
       "      <td>-0.283473</td>\n",
       "      <td>0.000000</td>\n",
       "      <td>0.000000</td>\n",
       "      <td>-0.322749</td>\n",
       "      <td>-0.476731</td>\n",
       "      <td>1.100964</td>\n",
       "    </tr>\n",
       "    <tr>\n",
       "      <th>Hlwan Moe Tun</th>\n",
       "      <td>1.039402</td>\n",
       "      <td>0.790569</td>\n",
       "      <td>0.550482</td>\n",
       "      <td>-0.322749</td>\n",
       "      <td>0.476731</td>\n",
       "      <td>1.100964</td>\n",
       "    </tr>\n",
       "    <tr>\n",
       "      <th>Randy Ferguson</th>\n",
       "      <td>1.039402</td>\n",
       "      <td>0.790569</td>\n",
       "      <td>1.376205</td>\n",
       "      <td>1.613743</td>\n",
       "      <td>0.000000</td>\n",
       "      <td>-0.550482</td>\n",
       "    </tr>\n",
       "    <tr>\n",
       "      <th>Raj Lotwala</th>\n",
       "      <td>-0.944911</td>\n",
       "      <td>0.000000</td>\n",
       "      <td>-1.100964</td>\n",
       "      <td>-0.322749</td>\n",
       "      <td>-0.476731</td>\n",
       "      <td>-1.376205</td>\n",
       "    </tr>\n",
       "    <tr>\n",
       "      <th>Noel Ramos</th>\n",
       "      <td>0.377964</td>\n",
       "      <td>0.790569</td>\n",
       "      <td>0.550482</td>\n",
       "      <td>0.645497</td>\n",
       "      <td>-1.430194</td>\n",
       "      <td>-0.550482</td>\n",
       "    </tr>\n",
       "    <tr>\n",
       "      <th>Chris Morris</th>\n",
       "      <td>-1.606349</td>\n",
       "      <td>-0.790569</td>\n",
       "      <td>-1.100964</td>\n",
       "      <td>0.000000</td>\n",
       "      <td>0.476731</td>\n",
       "      <td>0.275241</td>\n",
       "    </tr>\n",
       "  </tbody>\n",
       "</table>\n",
       "</div>"
      ],
      "text/plain": [
       "                Shawshank Redemption  Life is Beautiful  Wind River  \\\n",
       "Oleg Broder                 0.377964          -1.581139   -0.275241   \n",
       "Upama Ferdousi             -0.283473           0.000000    0.000000   \n",
       "Hlwan Moe Tun               1.039402           0.790569    0.550482   \n",
       "Randy Ferguson              1.039402           0.790569    1.376205   \n",
       "Raj Lotwala                -0.944911           0.000000   -1.100964   \n",
       "Noel Ramos                  0.377964           0.790569    0.550482   \n",
       "Chris Morris               -1.606349          -0.790569   -1.100964   \n",
       "\n",
       "                Life of Pie  Full Metal Jacket  Pursuit of Happyness  \n",
       "Oleg Broder       -1.290994           1.430194              0.000000  \n",
       "Upama Ferdousi    -0.322749          -0.476731              1.100964  \n",
       "Hlwan Moe Tun     -0.322749           0.476731              1.100964  \n",
       "Randy Ferguson     1.613743           0.000000             -0.550482  \n",
       "Raj Lotwala       -0.322749          -0.476731             -1.376205  \n",
       "Noel Ramos         0.645497          -1.430194             -0.550482  \n",
       "Chris Morris       0.000000           0.476731              0.275241  "
      ]
     },
     "execution_count": 14,
     "metadata": {},
     "output_type": "execute_result"
    }
   ],
   "source": [
    "dfs_standardized=dfs_standardized.fillna(0)  #this simple command will replace all NaN with 0\n",
    "dfs_standardized"
   ]
  },
  {
   "cell_type": "markdown",
   "metadata": {},
   "source": [
    "***Let's plot this based on standardized data average rating of reviewer***"
   ]
  },
  {
   "cell_type": "code",
   "execution_count": 17,
   "metadata": {},
   "outputs": [
    {
     "data": {
      "text/plain": [
       "Oleg Broder      -0.223203\n",
       "Upama Ferdousi    0.003002\n",
       "Hlwan Moe Tun     0.605900\n",
       "Randy Ferguson    0.711573\n",
       "Raj Lotwala      -0.703593\n",
       "Noel Ramos        0.063973\n",
       "Chris Morris     -0.457652\n",
       "dtype: float64"
      ]
     },
     "execution_count": 17,
     "metadata": {},
     "output_type": "execute_result"
    },
    {
     "data": {
      "image/png": "[encoded data removed]",
      "text/plain": [
       "<Figure size 432x288 with 1 Axes>"
      ]
     },
     "metadata": {},
     "output_type": "display_data"
    }
   ],
   "source": [
    "dfs_standardized.mean(axis=1).plot()\n",
    "dfs_standardized.mean(axis=1)"
   ]
  },
  {
   "cell_type": "markdown",
   "metadata": {},
   "source": [
    "***Let's plot this based on standardized data average rating of the movie***"
   ]
  },
  {
   "cell_type": "code",
   "execution_count": 19,
   "metadata": {},
   "outputs": [
    {
     "data": {
      "text/plain": [
       "Shawshank Redemption   -1.268826e-16\n",
       "Life is Beautiful       0.000000e+00\n",
       "Wind River              2.220446e-16\n",
       "Life of Pie            -5.233909e-16\n",
       "Full Metal Jacket      -7.930164e-18\n",
       "Pursuit of Happyness    4.282289e-16\n",
       "dtype: float64"
      ]
     },
     "execution_count": 19,
     "metadata": {},
     "output_type": "execute_result"
    },
    {
     "data": {
      "image/png": "[encoded data removed]",
      "text/plain": [
       "<Figure size 432x288 with 1 Axes>"
      ]
     },
     "metadata": {},
     "output_type": "display_data"
    }
   ],
   "source": [
    "dfs_standardized.mean(axis=0).plot()\n",
    "dfs_standardized.mean(axis=0)"
   ]
  }
 ],
 "metadata": {
  "kernelspec": {
   "display_name": "Python 3",
   "language": "python",
   "name": "python3"
  },
  "language_info": {
   "codemirror_mode": {
    "name": "ipython",
    "version": 3
   },
   "file_extension": ".py",
   "mimetype": "text/x-python",
   "name": "python",
   "nbconvert_exporter": "python",
   "pygments_lexer": "ipython3",
   "version": "3.6.5"
  }
 },
 "nbformat": 4,
 "nbformat_minor": 2
}
